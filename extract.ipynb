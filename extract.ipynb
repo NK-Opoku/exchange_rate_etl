{
 "cells": [
  {
   "cell_type": "code",
   "execution_count": 2,
   "metadata": {},
   "outputs": [
    {
     "name": "stdout",
     "output_type": "stream",
     "text": [
      "<connection object at 0x7323fd1e9f80; dsn: 'user=admin password=xxx dbname=dev host=coinbase-cluster.ctpfzvbnyqdb.us-east-1.redshift.amazonaws.com port=5439', closed: 0>\n",
      "<botocore.client.S3 object at 0x7323fc640440>\n",
      "<connection object at 0x7323f3ef2fc0; dsn: 'user=postgres password=xxx dbname=exchange_rate host=172.17.0.3 port=5432', closed: 0>\n",
      "<connection object at 0x7323f3ef3100; dsn: 'user=admin password=xxx dbname=dev host=coinbase-cluster.ctpfzvbnyqdb.us-east-1.redshift.amazonaws.com port=5439', closed: 0>\n",
      "<botocore.client.S3 object at 0x7323f3954440>\n",
      "<connection object at 0x7323f3ef3240; dsn: 'user=postgres password=xxx dbname=exchange_rate host=172.17.0.3 port=5432', closed: 0>\n"
     ]
    }
   ],
   "source": [
    "import requests\n",
    "import json\n",
    "import pandas as pd \n",
    "from datetime import datetime\n",
    "from importlib import reload \n",
    "import gzip \n",
    "import connection\n",
    "\n",
    "\n",
    "connection = reload(connection) \n"
   ]
  },
  {
   "cell_type": "code",
   "execution_count": 2,
   "metadata": {},
   "outputs": [
    {
     "name": "stdout",
     "output_type": "stream",
     "text": [
      "<connection object at 0x784c3cac2ac0; dsn: 'user=postgres password=xxx dbname=coinbase10 host=172.17.0.2 port=5432', closed: 0>\n",
      "\n",
      "\n",
      "<built-in method cursor of psycopg2.extensions.connection object at 0x784c3cac2ac0>\n"
     ]
    }
   ],
   "source": [
    "# # create connection object postgres db \n",
    "# local_con =connection.local_pgcon\n",
    "# local_cur = connection.local_pgcur\n",
    "\n",
    "# print(local_con) \n",
    "# print(\"\\n\")\n",
    "# print(local_cur) \n"
   ]
  },
  {
   "cell_type": "markdown",
   "metadata": {},
   "source": [
    "CREATE CONNECTIONS TO AWS S3, AWS REDSHIFT, LOCAL POSTGRES DB"
   ]
  },
  {
   "cell_type": "code",
   "execution_count": 2,
   "metadata": {},
   "outputs": [],
   "source": [
    "# create s3 object\n",
    "s3 = connection.s3_bucket\n",
    "\n",
    "# create Redshift connection and cursor\n",
    "cur_redshift = connection.cur_redshift\n",
    "conn_redshift = connection.conn_redshift\n",
    "\n",
    "\n",
    "#create local postgres connection and cursor\n",
    "cur_pg = connection.cur_pg\n",
    "conn_pg = connection.conn_pg\n",
    "\n"
   ]
  },
  {
   "cell_type": "code",
   "execution_count": 60,
   "metadata": {},
   "outputs": [],
   "source": [
    "# open exchange data, url is found in config.py\n",
    "\n",
    "\n",
    "response = requests.get(connection.api_url)         "
   ]
  },
  {
   "cell_type": "code",
   "execution_count": 168,
   "metadata": {},
   "outputs": [
    {
     "data": {
      "text/plain": [
       "'{\\n  \"disclaimer\": \"Usage subject to terms: https://openexchangerates.org/terms\",\\n  \"license\": \"https://openexchangerates.org/license\",\\n  \"timestamp\": 1716120007,\\n  \"base\": \"USD\",\\n  \"rates\": {\\n    \"AED\": 3.673,\\n    \"AFN\": 71.479051,\\n    \"ALL\": 92.148131,\\n    \"AMD\": 386.030742,\\n    \"ANG\": 1.792758,\\n    \"AOA\": 849,\\n    \"ARS\": 881.603415,\\n    \"AUD\": 1.492315,\\n    \"AWG\": 1.8025,\\n    \"AZN\": 1.7,\\n    \"BAM\": 1.795053,\\n    \"BBD\": 2,\\n    \"BDT\": 116.488448,\\n    \"BGN\": 1.79898,\\n    \"BHD\": 0.375109,\\n    \"BIF\": 2853.833157,\\n    \"BMD\": 1,\\n    \"BND\": 1.340645,\\n    \"BOB\": 6.87348,\\n    \"BRL\": 5.1046,\\n    \"BSD\": 1,\\n    \"BTC\": 0.000014849738,\\n    \"BTN\": 82.888175,\\n    \"BWP\": 13.478959,\\n    \"BYN\": 3.254922,\\n    \"BZD\": 2.00514,\\n    \"CAD\": 1.36175,\\n    \"CDF\": 2775.346609,\\n    \"CHF\": 0.911919,\\n    \"CLF\": 0.032417,\\n    \"CLP\": 894.49773,\\n    \"CNH\": 7.2317,\\n    \"CNY\": 7.2232,\\n    \"COP\": 3807.1681,\\n    \"CRC\": 509.113839,\\n    \"CUC\": 1,\\n    \"CUP\": 25.75,\\n    \"CVE\": 101.202307,\\n    \"CZK\": 22.718,\\n    \"DJF\": 177.137312,\\n    \"DKK\": 6.8646,\\n    \"DOP\": 58.271764,\\n    \"DZD\": 134.641,\\n    \"EGP\": 46.817497,\\n    \"ERN\": 15,\\n    \"ETB\": 57.138454,\\n    \"EUR\": 0.917996,\\n    \"FJD\": 2.2282,\\n    \"FKP\": 0.789609,\\n    \"GBP\": 0.789609,\\n    \"GEL\": 2.75,\\n    \"GGP\": 0.789609,\\n    \"GHS\": 14.225139,\\n    \"GIP\": 0.789609,\\n    \"GMD\": 67.9,\\n    \"GNF\": 8550.158767,\\n    \"GTQ\": 7.728879,\\n    \"GYD\": 208.122561,\\n    \"HKD\": 7.80265,\\n    \"HNL\": 24.630351,\\n    \"HRK\": 6.93166,\\n    \"HTG\": 132.302326,\\n    \"HUF\": 355.834848,\\n    \"IDR\": 15964.5,\\n    \"ILS\": 3.692993,\\n    \"IMP\": 0.789609,\\n    \"INR\": 83.30055,\\n    \"IQD\": 1303.106358,\\n    \"IRR\": 42062.5,\\n    \"ISK\": 137.827556,\\n    \"JEP\": 0.789609,\\n    \"JMD\": 155.238398,\\n    \"JOD\": 0.7089,\\n    \"JPY\": 155.675,\\n    \"KES\": 129.815044,\\n    \"KGS\": 88.2093,\\n    \"KHR\": 4056.727037,\\n    \"KMF\": 452.72518,\\n    \"KPW\": 900,\\n    \"KRW\": 1354.39,\\n    \"KWD\": 0.305447,\\n    \"KYD\": 0.829058,\\n    \"KZT\": 442.311046,\\n    \"LAK\": 21233.2653,\\n    \"LBP\": 89083.661682,\\n    \"LKR\": 298.141268,\\n    \"LRD\": 193.499967,\\n    \"LSL\": 18.199716,\\n    \"LYD\": 4.808316,\\n    \"MAD\": 9.904364,\\n    \"MDL\": 17.601808,\\n    \"MGA\": 4408.264782,\\n    \"MKD\": 56.550873,\\n    \"MMK\": 2089.030434,\\n    \"MNT\": 3450,\\n    \"MOP\": 7.994585,\\n    \"MRU\": 39.39241,\\n    \"MUR\": 45.86,\\n    \"MVR\": 15.46,\\n    \"MWK\": 1724.752058,\\n    \"MXN\": 16.6086,\\n    \"MYR\": 4.687501,\\n    \"MZN\": 63.899991,\\n    \"NAD\": 18.199716,\\n    \"NGN\": 1470,\\n    \"NIO\": 36.620624,\\n    \"NOK\": 10.74065,\\n    \"NPR\": 132.620795,\\n    \"NZD\": 1.630125,\\n    \"OMR\": 0.38414,\\n    \"PAB\": 1,\\n    \"PEN\": 3.714928,\\n    \"PGK\": 3.863063,\\n    \"PHP\": 57.849995,\\n    \"PKR\": 277.089416,\\n    \"PLN\": 3.91811,\\n    \"PYG\": 7453.506874,\\n    \"QAR\": 3.62792,\\n    \"RON\": 4.5762,\\n    \"RSD\": 107.504295,\\n    \"RUB\": 90.991811,\\n    \"RWF\": 1287.870325,\\n    \"SAR\": 3.750049,\\n    \"SBD\": 8.475946,\\n    \"SCR\": 13.791015,\\n    \"SDG\": 601,\\n    \"SEK\": 10.716985,\\n    \"SGD\": 1.346,\\n    \"SHP\": 0.789609,\\n    \"SLL\": 20969.5,\\n    \"SOS\": 568.491005,\\n    \"SRD\": 32.183,\\n    \"SSP\": 130.26,\\n    \"STD\": 22281.8,\\n    \"STN\": 22.486348,\\n    \"SVC\": 8.704511,\\n    \"SYP\": 2512.53,\\n    \"SZL\": 18.194667,\\n    \"THB\": 36.101143,\\n    \"TJS\": 10.773255,\\n    \"TMT\": 3.5,\\n    \"TND\": 3.115,\\n    \"TOP\": 2.358712,\\n    \"TRY\": 32.243399,\\n    \"TTD\": 6.755083,\\n    \"TWD\": 32.1798,\\n    \"TZS\": 2581.42974,\\n    \"UAH\": 39.251434,\\n    \"UGX\": 3750.184241,\\n    \"USD\": 1,\\n    \"UYU\": 38.796116,\\n    \"UZS\": 12653.216969,\\n    \"VES\": 36.580744,\\n    \"VND\": 25448.530759,\\n    \"VUV\": 118.722,\\n    \"WST\": 2.8,\\n    \"XAF\": 602.165588,\\n    \"XAG\": 0.03181778,\\n    \"XAU\": 0.00041426,\\n    \"XCD\": 2.70255,\\n    \"XDR\": 0.753155,\\n    \"XOF\": 602.165588,\\n    \"XPD\": 0.00099069,\\n    \"XPF\": 109.546005,\\n    \"XPT\": 0.00092176,\\n    \"YER\": 249.899769,\\n    \"ZAR\": 18.32926,\\n    \"ZMW\": 25.391215,\\n    \"ZWL\": 322\\n  }\\n}'"
      ]
     },
     "execution_count": 168,
     "metadata": {},
     "output_type": "execute_result"
    }
   ],
   "source": [
    "# Assign the API response to the variable api_data\n",
    "api_data = response.text\n",
    "# api_data"
   ]
  },
  {
   "cell_type": "markdown",
   "metadata": {},
   "source": [
    "MAKE TRANSFORMATIONS TO THE API DATA: DATE COLUMN CREATION, RATE_DATE VARIABLE TO APPEND TO CSV FILE NAME"
   ]
  },
  {
   "cell_type": "code",
   "execution_count": 169,
   "metadata": {},
   "outputs": [],
   "source": [
    "if response.status_code == 200:  \n",
    "    api_data = f''' {api_data} '''\n",
    "    api_data\n",
    "    api_data = json.loads(api_data)\n",
    "    # api_data\n",
    "    df = pd.DataFrame(api_data)\n",
    "\n",
    "    # extract base and timestamp column data\n",
    "    base = api_data['base']\n",
    "    timestamp = api_data['timestamp']\n",
    "\n",
    "    # Get date and time from timestamp \n",
    "    date = datetime.fromtimestamp(timestamp)\n",
    "    # format date to YYYYMMDD to be used as a column in the dataframe\n",
    "    year = date.strftime('%Y%m%d')\n",
    "    # format time to HMS\n",
    "    time = date.strftime('%H%M%S')\n",
    "    # this will be part of the csv filename to ensure uniqueness of filename \n",
    "    rate_date = year + '_'+ time\n",
    "\n",
    "    df = pd.DataFrame(api_data['rates'].items(), columns=['Currency', 'Rate'])\n",
    "\n",
    "    # Add base, timestamp, and date columns\n",
    "    df['Base'] = base\n",
    "    df['Timestamp'] = timestamp \n",
    "    df['Date'] = year\n",
    "    print(\"API Data Successfully Extracted\")\n",
    "else:\n",
    "    (\"Failed to retrieve data. Status code:\", response.status_code)\n",
    "\n"
   ]
  },
  {
   "cell_type": "code",
   "execution_count": 1,
   "metadata": {},
   "outputs": [
    {
     "ename": "NameError",
     "evalue": "name 'rate_date' is not defined",
     "output_type": "error",
     "traceback": [
      "\u001b[0;31m---------------------------------------------------------------------------\u001b[0m",
      "\u001b[0;31mNameError\u001b[0m                                 Traceback (most recent call last)",
      "Cell \u001b[0;32mIn[1], line 2\u001b[0m\n\u001b[1;32m      1\u001b[0m \u001b[38;5;66;03m# File name to be used for saving csv, exchange_rate + date and time from the timestamp of the dataframe\u001b[39;00m\n\u001b[0;32m----> 2\u001b[0m csv_file_path \u001b[38;5;241m=\u001b[39m \u001b[38;5;124mf\u001b[39m\u001b[38;5;124m'\u001b[39m\u001b[38;5;124mexchange_rate_\u001b[39m\u001b[38;5;132;01m{\u001b[39;00m\u001b[43mrate_date\u001b[49m\u001b[38;5;132;01m}\u001b[39;00m\u001b[38;5;124m.csv\u001b[39m\u001b[38;5;124m'\u001b[39m \n\u001b[1;32m      3\u001b[0m \u001b[38;5;28mprint\u001b[39m(csv_file_path)\n\u001b[1;32m      4\u001b[0m df\u001b[38;5;241m.\u001b[39mto_csv(csv_file_path, index\u001b[38;5;241m=\u001b[39m\u001b[38;5;28;01mFalse\u001b[39;00m)\n",
      "\u001b[0;31mNameError\u001b[0m: name 'rate_date' is not defined"
     ]
    }
   ],
   "source": [
    "# File name to be used for saving csv, exchange_rate + date and time from the timestamp of the dataframe\n",
    "csv_file_path = f'./datasets/exchange_rate_{rate_date}.csv' \n",
    "print(csv_file_path)\n",
    "df.to_csv(csv_file_path, index=False)"
   ]
  },
  {
   "cell_type": "code",
   "execution_count": null,
   "metadata": {},
   "outputs": [],
   "source": []
  },
  {
   "cell_type": "code",
   "execution_count": 152,
   "metadata": {},
   "outputs": [
    {
     "name": "stdout",
     "output_type": "stream",
     "text": [
      "exchange_rate_test_20151211-235001.csv.gz\n"
     ]
    }
   ],
   "source": [
    "# creating a filename variable for compressed file to be uploaded to S3\n",
    "file_name = csv_file_path + '.gz'\n",
    "print(file_name)"
   ]
  },
  {
   "cell_type": "code",
   "execution_count": 154,
   "metadata": {},
   "outputs": [],
   "source": [
    "# Compress CSV to zip format and assign the compressed filename to compressed_csv\n",
    "\n",
    "# location for local storage\n",
    "compressed_csv_local = file_name\n",
    "\n",
    "# formatting the location to be stored as datasets/exchange_rate_date_time.csv.gz for s3 bucket\n",
    "compressed_csv_s3 = file_name[2:]\n",
    "\n",
    "print(compressed_csv_s3)"
   ]
  },
  {
   "cell_type": "markdown",
   "metadata": {},
   "source": [
    "DATA UPLOAD TO AWS S3 BUCKET "
   ]
  },
  {
   "cell_type": "code",
   "execution_count": 155,
   "metadata": {},
   "outputs": [],
   "source": [
    "print(\"*****S3 DATA UPLOAD\")\n",
    "with open(compressed_csv_local, 'rb') as file:\n",
    "    # Upload the file object to S3 bucket\n",
    "    s3.upload_fileobj(file, 'emil-coinbase-bucket', compressed_csv_s3)"
   ]
  },
  {
   "cell_type": "code",
   "execution_count": 156,
   "metadata": {},
   "outputs": [
    {
     "name": "stdout",
     "output_type": "stream",
     "text": [
      "CSV file uploaded to S3 bucket successfully\n"
     ]
    }
   ],
   "source": [
    "# Check if the file has been successfully uploaded\n",
    "if s3.head_object(Bucket='emil-coinbase-bucket', Key=compressed_csv_s3):\n",
    "    print(\"CSV file uploaded to S3 bucket successfully\")\n",
    "else:\n",
    "    print(\"Upload not successful\")"
   ]
  },
  {
   "cell_type": "markdown",
   "metadata": {},
   "source": [
    "CREATE LOCAL DATABASE TABLE, AND INSERT DATA INTO DATABASE"
   ]
  },
  {
   "cell_type": "code",
   "execution_count": 5,
   "metadata": {},
   "outputs": [],
   "source": [
    "table_name = 'exchange_rates'\n",
    "try:\n",
    "    \n",
    "    rates_table = f'''CREATE TABLE IF NOT EXISTS {table_name} (\n",
    "                        currency VARCHAR(3),\n",
    "                        rate NUMERIC(16, 8),\n",
    "                        base VARCHAR(3),\n",
    "                        timestamp VARCHAR(16),\n",
    "                        date VARCHAR(8)\n",
    "                    )'''\n",
    "    connection.cur_pg.execute(rates_table)\n",
    "    connection.conn_pg.commit()\n",
    "except conn_pg.Error as e:\n",
    "    connection.conn_pg.rollback()\n",
    "    print(\"Error occurred:\", e)\n",
    "\n",
    "\n"
   ]
  },
  {
   "cell_type": "code",
   "execution_count": 26,
   "metadata": {},
   "outputs": [],
   "source": [
    "# INSERT DATA TO LOCAL DB\n",
    "try:\n",
    "    # size of each batch\n",
    "    batch_size = 200\n",
    "\n",
    "    # Insert DataFrame into database in batches\n",
    "    for i in range(0, len(df), batch_size):\n",
    "        batch_df = df.iloc[i:i + batch_size]\n",
    "        values = [tuple(row) for row in batch_df.values]\n",
    "\n",
    "        placeholders = ','.join(['%s'] * len(df.columns))\n",
    "        try:\n",
    "            insert_query = f'''INSERT INTO {table_name} (currency, rate, base, timestamp, date) \n",
    "                   VALUES ({placeholders})'''\n",
    "                   \n",
    "\n",
    "            connection.cur_pg.executemany(insert_query, values)\n",
    "            connection.conn_pg.commit()\n",
    "\n",
    "            print(insert_query)\n",
    "        except Exception as e:\n",
    "            # Rollback the transaction\n",
    "            connection.conn_pg.rollback()\n",
    "\n",
    "\n",
    "except Exception as e:\n",
    "    print(\"An error occurred during batch data insertion:\", e)\n",
    "    connection.conn_pg.rollback()  # Rollback the transaction in case of an error\n"
   ]
  },
  {
   "cell_type": "markdown",
   "metadata": {},
   "source": [
    "REDSHIFT TABLE CREATION AND FILE COPY FROM S3 BUCKET"
   ]
  },
  {
   "cell_type": "code",
   "execution_count": 6,
   "metadata": {},
   "outputs": [],
   "source": [
    "    # create table REDSHIFT\n",
    "\n",
    "table_name = 'exchange_rates'\n",
    "try:\n",
    "    \n",
    " rates_table = f'''CREATE TABLE IF NOT EXISTS {table_name} (\n",
    "                        currency VARCHAR(3),\n",
    "                        rate NUMERIC(16, 8),\n",
    "                        base VARCHAR(3),\n",
    "                        timestamp VARCHAR(16),\n",
    "                        date VARCHAR(8)\n",
    "                    )'''\n",
    "    \n",
    "  \n",
    " connection.cur_redshift.execute(rates_table)\n",
    " connection.conn_redshift.commit()\n",
    " print(\"Table created successfully.\")\n",
    "\n",
    "except Exception as e:\n",
    " connection.conn_redshift.rollback()\n",
    " print(f\"Error creating table: {e}\")"
   ]
  },
  {
   "cell_type": "code",
   "execution_count": 125,
   "metadata": {},
   "outputs": [
    {
     "name": "stdout",
     "output_type": "stream",
     "text": [
      "INSERT INTO currency_rates (ID, Name, min_size) VALUES (%s,%s,%s)\n"
     ]
    }
   ],
   "source": [
    "# upload data to Redshift form s3 bucket\n",
    "   \n",
    "\n",
    "aws_access_key_id = connection.aws_access_key_id\n",
    "aws_secret_access_key = connection.aws_secret_access_key\n",
    "\n",
    "try:\n",
    "    insert_from_s3 = f\"\"\"COPY {table_name}\n",
    "    FROM 's3://emil-coinbase-bucket/{compressed_csv_s3}'\n",
    "    CREDENTIALS 'aws_access_key_id={aws_access_key_id};aws_secret_access_key={aws_secret_access_key}'\n",
    "    IGNOREHEADER 1\n",
    "    FORMAT AS csv\n",
    "    gzip\n",
    "    DELIMITER ','; \"\"\"\n",
    "    \n",
    "    connection.cur_redshift.execute(insert_from_s3)\n",
    "    connection.conn_redshift.commit()\n",
    "    print(f\"Copy to Redshift: {table_name} was successful\")\n",
    "\n",
    "except Exception as e:\n",
    "    connection.conn_redshift.rollback()\n",
    "    print(f\"An error occurred: {str(e)}\")\n",
    "\n",
    "finally:\n",
    "    # Close the Redshift connection\n",
    "    connection.conn_redshift.close()\n",
    "\n",
    "\n",
    "\n"
   ]
  },
  {
   "cell_type": "code",
   "execution_count": null,
   "metadata": {},
   "outputs": [],
   "source": [
    "\n",
    "\n",
    "\n"
   ]
  },
  {
   "cell_type": "code",
   "execution_count": null,
   "metadata": {},
   "outputs": [],
   "source": []
  }
 ],
 "metadata": {
  "kernelspec": {
   "display_name": "Python 3",
   "language": "python",
   "name": "python3"
  },
  "language_info": {
   "codemirror_mode": {
    "name": "ipython",
    "version": 3
   },
   "file_extension": ".py",
   "mimetype": "text/x-python",
   "name": "python",
   "nbconvert_exporter": "python",
   "pygments_lexer": "ipython3",
   "version": "3.12.3"
  }
 },
 "nbformat": 4,
 "nbformat_minor": 2
}
