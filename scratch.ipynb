{
 "cells": [
  {
   "cell_type": "code",
   "execution_count": 195,
   "metadata": {},
   "outputs": [
    {
     "name": "stdout",
     "output_type": "stream",
     "text": [
      "<connection object at 0x784c27142ac0; dsn: 'user=admin password=xxx dbname=dev host=coinbase-cluster.ctpfzvbnyqdb.us-east-1.redshift.amazonaws.com port=5439', closed: 0>\n",
      "Connection to Postgres Server: coinbase-cluster.ctpfzvbnyqdb.us-east-1.redshift.amazonaws.com is successful on Port: 5439. Database is dev\n",
      "Connection to Postgres Server: 172.17.0.2 is successful on Port: 5432. Database is exchange_rate\n"
     ]
    }
   ],
   "source": [
    "import requests\n",
    "import json\n",
    "import pandas as pd \n",
    "from datetime import datetime\n",
    "from importlib import reload \n",
    "import gzip \n",
    "import connection\n",
    "\n",
    "\n",
    "connection = reload(connection) \n"
   ]
  },
  {
   "cell_type": "code",
   "execution_count": 136,
   "metadata": {},
   "outputs": [],
   "source": [
    "data = {\n",
    "    'disclaimer': \"https://openexchangerates.org/terms/\",\n",
    "    'license': \"https://openexchangerates.org/license/\",\n",
    "    'timestamp': 1449877801,\n",
    "    'base': \"USD\",\n",
    "    'rates': {\n",
    "        'AED': 3.672538,\n",
    "        'AFN': 66.809999,\n",
    "        'ALL': 125.716501,\n",
    "        'AMD': 484.902502,\n",
    "        'ANG': 1.788575,\n",
    "        'AOA': 135.295998,\n",
    "        'ARS': 9.750101,\n",
    "        'AUD': 1.390866\n",
    "       \n",
    "    }\n",
    "}"
   ]
  },
  {
   "cell_type": "code",
   "execution_count": 138,
   "metadata": {},
   "outputs": [
    {
     "data": {
      "text/html": [
       "<div>\n",
       "<style scoped>\n",
       "    .dataframe tbody tr th:only-of-type {\n",
       "        vertical-align: middle;\n",
       "    }\n",
       "\n",
       "    .dataframe tbody tr th {\n",
       "        vertical-align: top;\n",
       "    }\n",
       "\n",
       "    .dataframe thead th {\n",
       "        text-align: right;\n",
       "    }\n",
       "</style>\n",
       "<table border=\"1\" class=\"dataframe\">\n",
       "  <thead>\n",
       "    <tr style=\"text-align: right;\">\n",
       "      <th></th>\n",
       "      <th>disclaimer</th>\n",
       "      <th>license</th>\n",
       "      <th>timestamp</th>\n",
       "      <th>base</th>\n",
       "      <th>rates</th>\n",
       "    </tr>\n",
       "  </thead>\n",
       "  <tbody>\n",
       "    <tr>\n",
       "      <th>AED</th>\n",
       "      <td>https://openexchangerates.org/terms/</td>\n",
       "      <td>https://openexchangerates.org/license/</td>\n",
       "      <td>1449877801</td>\n",
       "      <td>USD</td>\n",
       "      <td>3.672538</td>\n",
       "    </tr>\n",
       "    <tr>\n",
       "      <th>AFN</th>\n",
       "      <td>https://openexchangerates.org/terms/</td>\n",
       "      <td>https://openexchangerates.org/license/</td>\n",
       "      <td>1449877801</td>\n",
       "      <td>USD</td>\n",
       "      <td>66.809999</td>\n",
       "    </tr>\n",
       "    <tr>\n",
       "      <th>ALL</th>\n",
       "      <td>https://openexchangerates.org/terms/</td>\n",
       "      <td>https://openexchangerates.org/license/</td>\n",
       "      <td>1449877801</td>\n",
       "      <td>USD</td>\n",
       "      <td>125.716501</td>\n",
       "    </tr>\n",
       "    <tr>\n",
       "      <th>AMD</th>\n",
       "      <td>https://openexchangerates.org/terms/</td>\n",
       "      <td>https://openexchangerates.org/license/</td>\n",
       "      <td>1449877801</td>\n",
       "      <td>USD</td>\n",
       "      <td>484.902502</td>\n",
       "    </tr>\n",
       "    <tr>\n",
       "      <th>ANG</th>\n",
       "      <td>https://openexchangerates.org/terms/</td>\n",
       "      <td>https://openexchangerates.org/license/</td>\n",
       "      <td>1449877801</td>\n",
       "      <td>USD</td>\n",
       "      <td>1.788575</td>\n",
       "    </tr>\n",
       "    <tr>\n",
       "      <th>AOA</th>\n",
       "      <td>https://openexchangerates.org/terms/</td>\n",
       "      <td>https://openexchangerates.org/license/</td>\n",
       "      <td>1449877801</td>\n",
       "      <td>USD</td>\n",
       "      <td>135.295998</td>\n",
       "    </tr>\n",
       "    <tr>\n",
       "      <th>ARS</th>\n",
       "      <td>https://openexchangerates.org/terms/</td>\n",
       "      <td>https://openexchangerates.org/license/</td>\n",
       "      <td>1449877801</td>\n",
       "      <td>USD</td>\n",
       "      <td>9.750101</td>\n",
       "    </tr>\n",
       "    <tr>\n",
       "      <th>AUD</th>\n",
       "      <td>https://openexchangerates.org/terms/</td>\n",
       "      <td>https://openexchangerates.org/license/</td>\n",
       "      <td>1449877801</td>\n",
       "      <td>USD</td>\n",
       "      <td>1.390866</td>\n",
       "    </tr>\n",
       "  </tbody>\n",
       "</table>\n",
       "</div>"
      ],
      "text/plain": [
       "                               disclaimer  \\\n",
       "AED  https://openexchangerates.org/terms/   \n",
       "AFN  https://openexchangerates.org/terms/   \n",
       "ALL  https://openexchangerates.org/terms/   \n",
       "AMD  https://openexchangerates.org/terms/   \n",
       "ANG  https://openexchangerates.org/terms/   \n",
       "AOA  https://openexchangerates.org/terms/   \n",
       "ARS  https://openexchangerates.org/terms/   \n",
       "AUD  https://openexchangerates.org/terms/   \n",
       "\n",
       "                                    license   timestamp base       rates  \n",
       "AED  https://openexchangerates.org/license/  1449877801  USD    3.672538  \n",
       "AFN  https://openexchangerates.org/license/  1449877801  USD   66.809999  \n",
       "ALL  https://openexchangerates.org/license/  1449877801  USD  125.716501  \n",
       "AMD  https://openexchangerates.org/license/  1449877801  USD  484.902502  \n",
       "ANG  https://openexchangerates.org/license/  1449877801  USD    1.788575  \n",
       "AOA  https://openexchangerates.org/license/  1449877801  USD  135.295998  \n",
       "ARS  https://openexchangerates.org/license/  1449877801  USD    9.750101  \n",
       "AUD  https://openexchangerates.org/license/  1449877801  USD    1.390866  "
      ]
     },
     "execution_count": 138,
     "metadata": {},
     "output_type": "execute_result"
    }
   ],
   "source": [
    "# data = json.loads(data)\n",
    "# data\n",
    "df = pd.DataFrame(data)\n",
    "df"
   ]
  },
  {
   "cell_type": "code",
   "execution_count": 2,
   "metadata": {},
   "outputs": [
    {
     "name": "stdout",
     "output_type": "stream",
     "text": [
      "<connection object at 0x784c3cac2ac0; dsn: 'user=postgres password=xxx dbname=coinbase10 host=172.17.0.2 port=5432', closed: 0>\n",
      "\n",
      "\n",
      "<built-in method cursor of psycopg2.extensions.connection object at 0x784c3cac2ac0>\n"
     ]
    }
   ],
   "source": [
    "# create connection object postgres db \n",
    "local_con =connection.local_pgcon\n",
    "local_cur = connection.local_pgcur\n",
    "\n",
    "print(local_con) \n",
    "print(\"\\n\")\n",
    "print(local_cur) \n"
   ]
  },
  {
   "cell_type": "code",
   "execution_count": null,
   "metadata": {},
   "outputs": [],
   "source": [
    "\n"
   ]
  },
  {
   "cell_type": "code",
   "execution_count": 179,
   "metadata": {},
   "outputs": [
    {
     "name": "stdout",
     "output_type": "stream",
     "text": [
      "<built-in method cursor of psycopg2.extensions.connection object at 0x784c33500f40>\n"
     ]
    }
   ],
   "source": [
    "# create s3 object\n",
    "s3 = connection.s3_bucket\n",
    "\n",
    "# create Redshift connection and cursor\n",
    "cur_redshift = connection.redshift_cur\n",
    "conn_redshift = connection.redshift_con\n",
    "# print(cur_redshift)\n",
    "print(cur_redshift)\n",
    "\n",
    "#create local postgres connection and cursor\n",
    "cur_pg = connection.local_pgcur\n",
    "conn_pg = connection.local_pgcon\n",
    "\n"
   ]
  },
  {
   "cell_type": "code",
   "execution_count": 4,
   "metadata": {},
   "outputs": [],
   "source": [
    "# delete this block\n",
    "# conn_redshift = connection.conn_redshift\n",
    "# cur_redshift = connection.cur_redshift\n",
    "# print(cur_redshift)"
   ]
  },
  {
   "cell_type": "code",
   "execution_count": 60,
   "metadata": {},
   "outputs": [],
   "source": [
    "# open exchange\n",
    "url2 ='https://api.binance.com/api/v3/ticker/price'\n",
    "\n",
    "url = 'https://api.coinbase.com/v2/currencies'\n",
    "# connection.api_url \n",
    "response = requests.get(connection.api_url)         "
   ]
  },
  {
   "cell_type": "code",
   "execution_count": 168,
   "metadata": {},
   "outputs": [
    {
     "data": {
      "text/plain": [
       "'{\\n  \"disclaimer\": \"Usage subject to terms: https://openexchangerates.org/terms\",\\n  \"license\": \"https://openexchangerates.org/license\",\\n  \"timestamp\": 1716120007,\\n  \"base\": \"USD\",\\n  \"rates\": {\\n    \"AED\": 3.673,\\n    \"AFN\": 71.479051,\\n    \"ALL\": 92.148131,\\n    \"AMD\": 386.030742,\\n    \"ANG\": 1.792758,\\n    \"AOA\": 849,\\n    \"ARS\": 881.603415,\\n    \"AUD\": 1.492315,\\n    \"AWG\": 1.8025,\\n    \"AZN\": 1.7,\\n    \"BAM\": 1.795053,\\n    \"BBD\": 2,\\n    \"BDT\": 116.488448,\\n    \"BGN\": 1.79898,\\n    \"BHD\": 0.375109,\\n    \"BIF\": 2853.833157,\\n    \"BMD\": 1,\\n    \"BND\": 1.340645,\\n    \"BOB\": 6.87348,\\n    \"BRL\": 5.1046,\\n    \"BSD\": 1,\\n    \"BTC\": 0.000014849738,\\n    \"BTN\": 82.888175,\\n    \"BWP\": 13.478959,\\n    \"BYN\": 3.254922,\\n    \"BZD\": 2.00514,\\n    \"CAD\": 1.36175,\\n    \"CDF\": 2775.346609,\\n    \"CHF\": 0.911919,\\n    \"CLF\": 0.032417,\\n    \"CLP\": 894.49773,\\n    \"CNH\": 7.2317,\\n    \"CNY\": 7.2232,\\n    \"COP\": 3807.1681,\\n    \"CRC\": 509.113839,\\n    \"CUC\": 1,\\n    \"CUP\": 25.75,\\n    \"CVE\": 101.202307,\\n    \"CZK\": 22.718,\\n    \"DJF\": 177.137312,\\n    \"DKK\": 6.8646,\\n    \"DOP\": 58.271764,\\n    \"DZD\": 134.641,\\n    \"EGP\": 46.817497,\\n    \"ERN\": 15,\\n    \"ETB\": 57.138454,\\n    \"EUR\": 0.917996,\\n    \"FJD\": 2.2282,\\n    \"FKP\": 0.789609,\\n    \"GBP\": 0.789609,\\n    \"GEL\": 2.75,\\n    \"GGP\": 0.789609,\\n    \"GHS\": 14.225139,\\n    \"GIP\": 0.789609,\\n    \"GMD\": 67.9,\\n    \"GNF\": 8550.158767,\\n    \"GTQ\": 7.728879,\\n    \"GYD\": 208.122561,\\n    \"HKD\": 7.80265,\\n    \"HNL\": 24.630351,\\n    \"HRK\": 6.93166,\\n    \"HTG\": 132.302326,\\n    \"HUF\": 355.834848,\\n    \"IDR\": 15964.5,\\n    \"ILS\": 3.692993,\\n    \"IMP\": 0.789609,\\n    \"INR\": 83.30055,\\n    \"IQD\": 1303.106358,\\n    \"IRR\": 42062.5,\\n    \"ISK\": 137.827556,\\n    \"JEP\": 0.789609,\\n    \"JMD\": 155.238398,\\n    \"JOD\": 0.7089,\\n    \"JPY\": 155.675,\\n    \"KES\": 129.815044,\\n    \"KGS\": 88.2093,\\n    \"KHR\": 4056.727037,\\n    \"KMF\": 452.72518,\\n    \"KPW\": 900,\\n    \"KRW\": 1354.39,\\n    \"KWD\": 0.305447,\\n    \"KYD\": 0.829058,\\n    \"KZT\": 442.311046,\\n    \"LAK\": 21233.2653,\\n    \"LBP\": 89083.661682,\\n    \"LKR\": 298.141268,\\n    \"LRD\": 193.499967,\\n    \"LSL\": 18.199716,\\n    \"LYD\": 4.808316,\\n    \"MAD\": 9.904364,\\n    \"MDL\": 17.601808,\\n    \"MGA\": 4408.264782,\\n    \"MKD\": 56.550873,\\n    \"MMK\": 2089.030434,\\n    \"MNT\": 3450,\\n    \"MOP\": 7.994585,\\n    \"MRU\": 39.39241,\\n    \"MUR\": 45.86,\\n    \"MVR\": 15.46,\\n    \"MWK\": 1724.752058,\\n    \"MXN\": 16.6086,\\n    \"MYR\": 4.687501,\\n    \"MZN\": 63.899991,\\n    \"NAD\": 18.199716,\\n    \"NGN\": 1470,\\n    \"NIO\": 36.620624,\\n    \"NOK\": 10.74065,\\n    \"NPR\": 132.620795,\\n    \"NZD\": 1.630125,\\n    \"OMR\": 0.38414,\\n    \"PAB\": 1,\\n    \"PEN\": 3.714928,\\n    \"PGK\": 3.863063,\\n    \"PHP\": 57.849995,\\n    \"PKR\": 277.089416,\\n    \"PLN\": 3.91811,\\n    \"PYG\": 7453.506874,\\n    \"QAR\": 3.62792,\\n    \"RON\": 4.5762,\\n    \"RSD\": 107.504295,\\n    \"RUB\": 90.991811,\\n    \"RWF\": 1287.870325,\\n    \"SAR\": 3.750049,\\n    \"SBD\": 8.475946,\\n    \"SCR\": 13.791015,\\n    \"SDG\": 601,\\n    \"SEK\": 10.716985,\\n    \"SGD\": 1.346,\\n    \"SHP\": 0.789609,\\n    \"SLL\": 20969.5,\\n    \"SOS\": 568.491005,\\n    \"SRD\": 32.183,\\n    \"SSP\": 130.26,\\n    \"STD\": 22281.8,\\n    \"STN\": 22.486348,\\n    \"SVC\": 8.704511,\\n    \"SYP\": 2512.53,\\n    \"SZL\": 18.194667,\\n    \"THB\": 36.101143,\\n    \"TJS\": 10.773255,\\n    \"TMT\": 3.5,\\n    \"TND\": 3.115,\\n    \"TOP\": 2.358712,\\n    \"TRY\": 32.243399,\\n    \"TTD\": 6.755083,\\n    \"TWD\": 32.1798,\\n    \"TZS\": 2581.42974,\\n    \"UAH\": 39.251434,\\n    \"UGX\": 3750.184241,\\n    \"USD\": 1,\\n    \"UYU\": 38.796116,\\n    \"UZS\": 12653.216969,\\n    \"VES\": 36.580744,\\n    \"VND\": 25448.530759,\\n    \"VUV\": 118.722,\\n    \"WST\": 2.8,\\n    \"XAF\": 602.165588,\\n    \"XAG\": 0.03181778,\\n    \"XAU\": 0.00041426,\\n    \"XCD\": 2.70255,\\n    \"XDR\": 0.753155,\\n    \"XOF\": 602.165588,\\n    \"XPD\": 0.00099069,\\n    \"XPF\": 109.546005,\\n    \"XPT\": 0.00092176,\\n    \"YER\": 249.899769,\\n    \"ZAR\": 18.32926,\\n    \"ZMW\": 25.391215,\\n    \"ZWL\": 322\\n  }\\n}'"
      ]
     },
     "execution_count": 168,
     "metadata": {},
     "output_type": "execute_result"
    }
   ],
   "source": [
    "api_data = response.text\n",
    "api_data"
   ]
  },
  {
   "cell_type": "code",
   "execution_count": 169,
   "metadata": {},
   "outputs": [],
   "source": [
    "api_data = f''' {api_data} '''\n",
    "api_data\n",
    "api_data = json.loads(api_data)\n",
    "# api_data\n",
    "df = pd.DataFrame(api_data)\n",
    "\n",
    "# extract base and timestamp column data\n",
    "base = api_data['base']\n",
    "timestamp = api_data['timestamp']\n",
    "\n",
    "# Get date and time from timestamp \n",
    "date = datetime.fromtimestamp(timestamp)\n",
    "# format date to YYYYMMDD to be used as a column in the dataframe\n",
    "year = date.strftime('%Y%m%d')\n",
    "# format time to HMS\n",
    "time = date.strftime('%H%M%S')\n",
    "# this will be part of the csv filename to ensure uniqueness of filename \n",
    "rate_date = year + '_'+ time\n",
    "\n",
    "df = pd.DataFrame(api_data['rates'].items(), columns=['Currency', 'Rate'])\n",
    "\n",
    "# Add base, timestamp, and date columns\n",
    "df['Base'] = base\n",
    "df['Timestamp'] = timestamp \n",
    "df['Date'] = year\n",
    "\n"
   ]
  },
  {
   "cell_type": "code",
   "execution_count": 212,
   "metadata": {},
   "outputs": [],
   "source": [
    "rate_date = year + '_'+ time"
   ]
  },
  {
   "cell_type": "code",
   "execution_count": 166,
   "metadata": {},
   "outputs": [
    {
     "data": {
      "text/plain": [
       "{'disclaimer': 'Usage subject to terms: https://openexchangerates.org/terms',\n",
       " 'license': 'https://openexchangerates.org/license',\n",
       " 'timestamp': 1716120007,\n",
       " 'base': 'USD',\n",
       " 'rates': {'AED': 3.673,\n",
       "  'AFN': 71.479051,\n",
       "  'ALL': 92.148131,\n",
       "  'AMD': 386.030742,\n",
       "  'ANG': 1.792758,\n",
       "  'AOA': 849,\n",
       "  'ARS': 881.603415,\n",
       "  'AUD': 1.492315,\n",
       "  'AWG': 1.8025,\n",
       "  'AZN': 1.7,\n",
       "  'BAM': 1.795053,\n",
       "  'BBD': 2,\n",
       "  'BDT': 116.488448,\n",
       "  'BGN': 1.79898,\n",
       "  'BHD': 0.375109,\n",
       "  'BIF': 2853.833157,\n",
       "  'BMD': 1,\n",
       "  'BND': 1.340645,\n",
       "  'BOB': 6.87348,\n",
       "  'BRL': 5.1046,\n",
       "  'BSD': 1,\n",
       "  'BTC': 1.4849738e-05,\n",
       "  'BTN': 82.888175,\n",
       "  'BWP': 13.478959,\n",
       "  'BYN': 3.254922,\n",
       "  'BZD': 2.00514,\n",
       "  'CAD': 1.36175,\n",
       "  'CDF': 2775.346609,\n",
       "  'CHF': 0.911919,\n",
       "  'CLF': 0.032417,\n",
       "  'CLP': 894.49773,\n",
       "  'CNH': 7.2317,\n",
       "  'CNY': 7.2232,\n",
       "  'COP': 3807.1681,\n",
       "  'CRC': 509.113839,\n",
       "  'CUC': 1,\n",
       "  'CUP': 25.75,\n",
       "  'CVE': 101.202307,\n",
       "  'CZK': 22.718,\n",
       "  'DJF': 177.137312,\n",
       "  'DKK': 6.8646,\n",
       "  'DOP': 58.271764,\n",
       "  'DZD': 134.641,\n",
       "  'EGP': 46.817497,\n",
       "  'ERN': 15,\n",
       "  'ETB': 57.138454,\n",
       "  'EUR': 0.917996,\n",
       "  'FJD': 2.2282,\n",
       "  'FKP': 0.789609,\n",
       "  'GBP': 0.789609,\n",
       "  'GEL': 2.75,\n",
       "  'GGP': 0.789609,\n",
       "  'GHS': 14.225139,\n",
       "  'GIP': 0.789609,\n",
       "  'GMD': 67.9,\n",
       "  'GNF': 8550.158767,\n",
       "  'GTQ': 7.728879,\n",
       "  'GYD': 208.122561,\n",
       "  'HKD': 7.80265,\n",
       "  'HNL': 24.630351,\n",
       "  'HRK': 6.93166,\n",
       "  'HTG': 132.302326,\n",
       "  'HUF': 355.834848,\n",
       "  'IDR': 15964.5,\n",
       "  'ILS': 3.692993,\n",
       "  'IMP': 0.789609,\n",
       "  'INR': 83.30055,\n",
       "  'IQD': 1303.106358,\n",
       "  'IRR': 42062.5,\n",
       "  'ISK': 137.827556,\n",
       "  'JEP': 0.789609,\n",
       "  'JMD': 155.238398,\n",
       "  'JOD': 0.7089,\n",
       "  'JPY': 155.675,\n",
       "  'KES': 129.815044,\n",
       "  'KGS': 88.2093,\n",
       "  'KHR': 4056.727037,\n",
       "  'KMF': 452.72518,\n",
       "  'KPW': 900,\n",
       "  'KRW': 1354.39,\n",
       "  'KWD': 0.305447,\n",
       "  'KYD': 0.829058,\n",
       "  'KZT': 442.311046,\n",
       "  'LAK': 21233.2653,\n",
       "  'LBP': 89083.661682,\n",
       "  'LKR': 298.141268,\n",
       "  'LRD': 193.499967,\n",
       "  'LSL': 18.199716,\n",
       "  'LYD': 4.808316,\n",
       "  'MAD': 9.904364,\n",
       "  'MDL': 17.601808,\n",
       "  'MGA': 4408.264782,\n",
       "  'MKD': 56.550873,\n",
       "  'MMK': 2089.030434,\n",
       "  'MNT': 3450,\n",
       "  'MOP': 7.994585,\n",
       "  'MRU': 39.39241,\n",
       "  'MUR': 45.86,\n",
       "  'MVR': 15.46,\n",
       "  'MWK': 1724.752058,\n",
       "  'MXN': 16.6086,\n",
       "  'MYR': 4.687501,\n",
       "  'MZN': 63.899991,\n",
       "  'NAD': 18.199716,\n",
       "  'NGN': 1470,\n",
       "  'NIO': 36.620624,\n",
       "  'NOK': 10.74065,\n",
       "  'NPR': 132.620795,\n",
       "  'NZD': 1.630125,\n",
       "  'OMR': 0.38414,\n",
       "  'PAB': 1,\n",
       "  'PEN': 3.714928,\n",
       "  'PGK': 3.863063,\n",
       "  'PHP': 57.849995,\n",
       "  'PKR': 277.089416,\n",
       "  'PLN': 3.91811,\n",
       "  'PYG': 7453.506874,\n",
       "  'QAR': 3.62792,\n",
       "  'RON': 4.5762,\n",
       "  'RSD': 107.504295,\n",
       "  'RUB': 90.991811,\n",
       "  'RWF': 1287.870325,\n",
       "  'SAR': 3.750049,\n",
       "  'SBD': 8.475946,\n",
       "  'SCR': 13.791015,\n",
       "  'SDG': 601,\n",
       "  'SEK': 10.716985,\n",
       "  'SGD': 1.346,\n",
       "  'SHP': 0.789609,\n",
       "  'SLL': 20969.5,\n",
       "  'SOS': 568.491005,\n",
       "  'SRD': 32.183,\n",
       "  'SSP': 130.26,\n",
       "  'STD': 22281.8,\n",
       "  'STN': 22.486348,\n",
       "  'SVC': 8.704511,\n",
       "  'SYP': 2512.53,\n",
       "  'SZL': 18.194667,\n",
       "  'THB': 36.101143,\n",
       "  'TJS': 10.773255,\n",
       "  'TMT': 3.5,\n",
       "  'TND': 3.115,\n",
       "  'TOP': 2.358712,\n",
       "  'TRY': 32.243399,\n",
       "  'TTD': 6.755083,\n",
       "  'TWD': 32.1798,\n",
       "  'TZS': 2581.42974,\n",
       "  'UAH': 39.251434,\n",
       "  'UGX': 3750.184241,\n",
       "  'USD': 1,\n",
       "  'UYU': 38.796116,\n",
       "  'UZS': 12653.216969,\n",
       "  'VES': 36.580744,\n",
       "  'VND': 25448.530759,\n",
       "  'VUV': 118.722,\n",
       "  'WST': 2.8,\n",
       "  'XAF': 602.165588,\n",
       "  'XAG': 0.03181778,\n",
       "  'XAU': 0.00041426,\n",
       "  'XCD': 2.70255,\n",
       "  'XDR': 0.753155,\n",
       "  'XOF': 602.165588,\n",
       "  'XPD': 0.00099069,\n",
       "  'XPF': 109.546005,\n",
       "  'XPT': 0.00092176,\n",
       "  'YER': 249.899769,\n",
       "  'ZAR': 18.32926,\n",
       "  'ZMW': 25.391215,\n",
       "  'ZWL': 322}}"
      ]
     },
     "execution_count": 166,
     "metadata": {},
     "output_type": "execute_result"
    }
   ],
   "source": [
    "api_data"
   ]
  },
  {
   "cell_type": "code",
   "execution_count": 213,
   "metadata": {},
   "outputs": [],
   "source": [
    "csv_file_path = f'exchange_rate_{rate_date}.csv' \n",
    "# date = datetime.utcfromtimestamp(timestamp)\n",
    "# date\n",
    "df.to_csv(csv_file_path, index=False)"
   ]
  },
  {
   "cell_type": "code",
   "execution_count": 49,
   "metadata": {},
   "outputs": [
    {
     "name": "stdout",
     "output_type": "stream",
     "text": [
      "CSV file saved successfully: saturday_rate.csv\n"
     ]
    }
   ],
   "source": [
    "# Check if the request was successful (status code 200)\n",
    "if response.status_code == 200:\n",
    "\n",
    "    api_data = response.text\n",
    "   \n",
    "    api_data = json.loads(api_data)\n",
    "        # use this code if the result of the parsed json is in the form {data: {all the response data}}\n",
    "    # api_data = api_data.get('data', [])\n",
    "\n",
    "    # Read the JSON data into a Pandas DataFrame\n",
    "    df = pd.DataFrame(api_data)\n",
    "    \n",
    "    # Specify the file path where you want to save the CSV file\n",
    "    csv_file_path = 'saturday_rate.csv'\n",
    "    \n",
    "    # Write the DataFrame to a CSV file\n",
    "    df.to_csv(csv_file_path, index=False)\n",
    "    \n",
    "    print(\"CSV file saved successfully:\", csv_file_path)\n",
    "else:\n",
    "    print(\"Failed to retrieve data. Status code:\", response.status_code)"
   ]
  },
  {
   "cell_type": "code",
   "execution_count": 214,
   "metadata": {},
   "outputs": [
    {
     "name": "stdout",
     "output_type": "stream",
     "text": [
      "exchange_rate_20240519_120007.csv.gz\n"
     ]
    }
   ],
   "source": [
    "# creating a filename variable for compressed file to be uploaded to S3\n",
    "file_name = csv_file_path + '.gz'\n",
    "print(file_name)"
   ]
  },
  {
   "cell_type": "code",
   "execution_count": 153,
   "metadata": {},
   "outputs": [],
   "source": [
    "df.to_csv(file_name, index=False, compression='gzip')"
   ]
  },
  {
   "cell_type": "code",
   "execution_count": 215,
   "metadata": {},
   "outputs": [],
   "source": [
    "# df to zip\n",
    "\n",
    "df.to_csv(file_name, index=False, compression='gzip')\n",
    "\n",
    "compressed_csv = file_name\n"
   ]
  },
  {
   "cell_type": "code",
   "execution_count": 216,
   "metadata": {},
   "outputs": [],
   "source": [
    "with open(compressed_csv, 'rb') as file:\n",
    "    # Upload the file object to S3 bucket\n",
    "    s3.upload_fileobj(file, 'emil-coinbase-bucket', compressed_csv)"
   ]
  },
  {
   "cell_type": "code",
   "execution_count": 217,
   "metadata": {},
   "outputs": [
    {
     "name": "stdout",
     "output_type": "stream",
     "text": [
      "CSV file uploaded to S3 bucket successfully\n"
     ]
    }
   ],
   "source": [
    "# Check if the file has been successfully uploaded\n",
    "if s3.head_object(Bucket='emil-coinbase-bucket', Key=compressed_csv):\n",
    "    print(\"CSV file uploaded to S3 bucket successfully\")\n",
    "else:\n",
    "    print(\"Upload not successful\")"
   ]
  },
  {
   "cell_type": "code",
   "execution_count": 197,
   "metadata": {},
   "outputs": [],
   "source": [
    "try:\n",
    "    table_name = 'exchange_rates'\n",
    "    rates_table = f'''CREATE TABLE IF NOT EXISTS {table_name} (\n",
    "                        currency VARCHAR(3),\n",
    "                        rate NUMERIC(16, 8),\n",
    "                        base VARCHAR(3),\n",
    "                        timestamp VARCHAR(16),\n",
    "                        date VARCHAR(8)\n",
    "                    )'''\n",
    "    connection.cur_pg.execute(rates_table)\n",
    "    connection.conn_pg.commit()\n",
    "except conn_pg.Error as e:\n",
    "    connection.conn_pg.rollback()\n",
    "    print(\"Error occurred:\", e)\n",
    "\n"
   ]
  },
  {
   "cell_type": "code",
   "execution_count": 186,
   "metadata": {},
   "outputs": [],
   "source": []
  },
  {
   "cell_type": "code",
   "execution_count": 196,
   "metadata": {},
   "outputs": [
    {
     "name": "stdout",
     "output_type": "stream",
     "text": [
      "INSERT INTO exchange_rates (currency, rate, base, timestamp, date) VALUES (%s,%s,%s,%s,%s)\n"
     ]
    }
   ],
   "source": [
    "# INSERT DATA TO LOCAL DB\n",
    "try:\n",
    "    # size of each batch\n",
    "    batch_size = 1000\n",
    "\n",
    "    # Insert DataFrame into database in batches\n",
    "    for i in range(0, len(df), batch_size):\n",
    "        batch_df = df.iloc[i:i + batch_size]\n",
    "        values = [tuple(row) for row in batch_df.values]\n",
    "\n",
    "        placeholders = ','.join(['%s'] * len(df.columns))\n",
    "        try:\n",
    "            insert_query = f\"INSERT INTO {table_name} (currency, rate, base, timestamp, date) VALUES ({placeholders})\"\n",
    "            connection.cur_pg.executemany(insert_query, values)\n",
    "            connection.conn_pg.commit()\n",
    "\n",
    "            print(insert_query)\n",
    "        except Exception as e:\n",
    "            # Rollback the transaction\n",
    "            connection.conn_pg.rollback()\n",
    "\n",
    "            # If the insert fails due to a unique constraint violation, perform an update instead\n",
    "            if 'duplicate key' in str(e):\n",
    "                for value in values:\n",
    "                    update_query = \"UPDATE currency_rates SET Name = %s, min_size = %s WHERE ID = %s\"\n",
    "                    connection.cur_pg.execute(update_query, (value[1], value[2], value[0]))\n",
    "                    connection.conn_pg.commit()  # Commit each update\n",
    "            else:\n",
    "                raise e\n",
    "\n",
    "except Exception as e:\n",
    "    print(\"An error occurred during batch data insertion:\", e)\n",
    "    connection.conn_pg.rollback()  # Rollback the transaction in case of an error\n",
    "\n"
   ]
  },
  {
   "cell_type": "code",
   "execution_count": null,
   "metadata": {},
   "outputs": [],
   "source": []
  },
  {
   "cell_type": "code",
   "execution_count": 206,
   "metadata": {},
   "outputs": [
    {
     "name": "stdout",
     "output_type": "stream",
     "text": [
      "INSERT INTO exchange_rates (currency, rate, base, timestamp, date) \n",
      "                   VALUES (%s,%s,%s,%s,%s)\n"
     ]
    }
   ],
   "source": [
    "# upsert on conflict\n",
    "# INSERT DATA TO LOCAL DB\n",
    "try:\n",
    "    # size of each batch\n",
    "    batch_size = 200\n",
    "\n",
    "    # Insert DataFrame into database in batches\n",
    "    for i in range(0, len(df), batch_size):\n",
    "        batch_df = df.iloc[i:i + batch_size]\n",
    "        values = [tuple(row) for row in batch_df.values]\n",
    "\n",
    "        placeholders = ','.join(['%s'] * len(df.columns))\n",
    "        try:\n",
    "            insert_query = f'''INSERT INTO {table_name} (currency, rate, base, timestamp, date) \n",
    "                   VALUES ({placeholders})'''\n",
    "                   \n",
    "\n",
    "            connection.cur_pg.executemany(insert_query, values)\n",
    "            connection.conn_pg.commit()\n",
    "\n",
    "            print(insert_query)\n",
    "        except Exception as e:\n",
    "            # Rollback the transaction\n",
    "            connection.conn_pg.rollback()\n",
    "\n",
    "\n",
    "except Exception as e:\n",
    "    print(\"An error occurred during batch data insertion:\", e)\n",
    "    connection.conn_pg.rollback()  # Rollback the transaction in case of an error\n"
   ]
  },
  {
   "cell_type": "code",
   "execution_count": 139,
   "metadata": {},
   "outputs": [],
   "source": [
    "# INSERT INTO users (id, rate)\n",
    "# VALUES (1, 0)\n",
    "# ON CONFLICT (id) DO UPDATE\n",
    "# SET min_value = %s;\n"
   ]
  },
  {
   "cell_type": "code",
   "execution_count": 136,
   "metadata": {},
   "outputs": [
    {
     "ename": "UndefinedFile",
     "evalue": "could not open file \"./scratch_csv.csv\" for reading: No such file or directory\nHINT:  COPY FROM instructs the PostgreSQL server process to read a file. You may want a client-side facility such as psql's \\copy.\n",
     "output_type": "error",
     "traceback": [
      "\u001b[1;31m---------------------------------------------------------------------------\u001b[0m",
      "\u001b[1;31mUndefinedFile\u001b[0m                             Traceback (most recent call last)",
      "\u001b[1;32m~\\AppData\\Local\\Temp\\ipykernel_10400\\1509245355.py\u001b[0m in \u001b[0;36m<module>\u001b[1;34m\u001b[0m\n\u001b[0;32m     24\u001b[0m \u001b[1;31m# DELIMITER ','; \"\"\"\u001b[0m\u001b[1;33m\u001b[0m\u001b[1;33m\u001b[0m\u001b[1;33m\u001b[0m\u001b[0m\n\u001b[0;32m     25\u001b[0m \u001b[1;33m\u001b[0m\u001b[0m\n\u001b[1;32m---> 26\u001b[1;33m \u001b[0mcur_pg\u001b[0m\u001b[1;33m.\u001b[0m\u001b[0mexecute\u001b[0m\u001b[1;33m(\u001b[0m\u001b[0minsert_from_local\u001b[0m\u001b[1;33m)\u001b[0m\u001b[1;33m\u001b[0m\u001b[1;33m\u001b[0m\u001b[0m\n\u001b[0m\u001b[0;32m     27\u001b[0m \u001b[0mconn_pg\u001b[0m\u001b[1;33m.\u001b[0m\u001b[0mcommit\u001b[0m\u001b[1;33m(\u001b[0m\u001b[1;33m)\u001b[0m\u001b[1;33m\u001b[0m\u001b[1;33m\u001b[0m\u001b[0m\n\u001b[0;32m     28\u001b[0m \u001b[1;33m\u001b[0m\u001b[0m\n",
      "\u001b[1;31mUndefinedFile\u001b[0m: could not open file \"./scratch_csv.csv\" for reading: No such file or directory\nHINT:  COPY FROM instructs the PostgreSQL server process to read a file. You may want a client-side facility such as psql's \\copy.\n"
     ]
    }
   ],
   "source": [
    "# Upload data to local postgres db \n",
    "    # create table\n",
    "table_name = 'currency_rates'\n",
    "rates_table = f'''CREATE TABLE IF NOT EXISTS {table_name} (ID VARCHAR(3), Name VARCHAR(65), min_size numeric(10, 8) ) '''\n",
    "cur_pg.execute(rates_table)\n",
    "conn_pg.commit()\n",
    "    # copy csv\n",
    "\n",
    "\n",
    "# insert_from_local = f\"\"\"COPY currency_rates\n",
    "# FROM '{csv_file_path}'\n",
    "# DELIMITER ','\n",
    "# CSV\n",
    "# HEADER;\n",
    "#  \"\"\"\n",
    "\n",
    "insert_from_local= f\"\"\"copy currency_rates FROM '{csv_file_path}' CSV HEADER DELIMITER ','; \"\"\"\n",
    "\n",
    "\n",
    "# insert_from_local = f\"\"\"COPY currency_rates\n",
    "# FROM '{csv_file_path}'\n",
    "# IGNOREHEADER 1\n",
    "# FORMAT AS csv\n",
    "# DELIMITER ','; \"\"\"\n",
    "\n",
    "cur_pg.execute(insert_from_local)\n",
    "conn_pg.commit()\n",
    "\n",
    "conn_pg.close()"
   ]
  },
  {
   "cell_type": "code",
   "execution_count": 122,
   "metadata": {},
   "outputs": [],
   "source": [
    "#  delete this block\n",
    "connection.cur_redshift.execute('ROLLBACK')"
   ]
  },
  {
   "cell_type": "code",
   "execution_count": 207,
   "metadata": {},
   "outputs": [
    {
     "name": "stdout",
     "output_type": "stream",
     "text": [
      "Table created successfully.\n"
     ]
    }
   ],
   "source": [
    "    # create table REDSHIFT\n",
    "\n",
    "table_name = 'exchange_rates'\n",
    "try:\n",
    "    \n",
    " rates_table = f'''CREATE TABLE IF NOT EXISTS {table_name} (\n",
    "                        currency VARCHAR(3),\n",
    "                        rate NUMERIC(16, 8),\n",
    "                        base VARCHAR(3),\n",
    "                        timestamp VARCHAR(16),\n",
    "                        date VARCHAR(8)\n",
    "                    )'''\n",
    "    \n",
    "  \n",
    " connection.cur_redshift.execute(rates_table)\n",
    " connection.conn_redshift.commit()\n",
    " print(\"Table created successfully.\")\n",
    "\n",
    "except Exception as e:\n",
    " connection.conn_redshift.rollback()\n",
    " print(f\"Error creating table: {e}\")"
   ]
  },
  {
   "cell_type": "code",
   "execution_count": 223,
   "metadata": {},
   "outputs": [],
   "source": [
    "# upload data to Redshift form s3 bucket\n",
    "   \n",
    "\n",
    "aws_access_key_id = connection.aws_access_key_id\n",
    "aws_secret_access_key = connection.aws_secret_access_key\n",
    "\n",
    "insert_from_s3 = f\"\"\"COPY {table_name}\n",
    "FROM 's3://emil-coinbase-bucket/{compressed_csv}'\n",
    "CREDENTIALS 'aws_access_key_id={aws_access_key_id};aws_secret_access_key={aws_secret_access_key}'\n",
    "IGNOREHEADER 1\n",
    "FORMAT AS csv\n",
    "gzip\n",
    "DELIMITER ','; \"\"\"\n",
    "\n",
    "\n",
    "connection.cur_redshift.execute(insert_from_s3)\n",
    "connection.conn_redshift.commit()\n",
    "print(f\"Copy to Redshift: {table_name} was successful\")\n",
    "\n",
    "conn_redshift.close()\n",
    "\n",
    "\n"
   ]
  },
  {
   "cell_type": "code",
   "execution_count": 97,
   "metadata": {},
   "outputs": [],
   "source": []
  },
  {
   "cell_type": "code",
   "execution_count": 63,
   "metadata": {},
   "outputs": [
    {
     "name": "stdout",
     "output_type": "stream",
     "text": [
      "<connection object at 0x000002543DE7EA68; dsn: 'user=admin password=xxx dbname=dev host=coinbase-cluster.ctpfzvbnyqdb.us-east-1.redshift.amazonaws.com port=5439', closed: 0>\n"
     ]
    }
   ],
   "source": [
    "conn_redshift = connection.conn_redshift\n",
    "cur_redshift = connection.cur_redshift\n",
    "print(conn_redshift)"
   ]
  },
  {
   "cell_type": "code",
   "execution_count": 221,
   "metadata": {},
   "outputs": [],
   "source": [
    "connection.cur_redshift.execute('ROLLBACK')"
   ]
  },
  {
   "cell_type": "code",
   "execution_count": 42,
   "metadata": {},
   "outputs": [],
   "source": [
    "\n",
    "\n",
    ")"
   ]
  },
  {
   "cell_type": "code",
   "execution_count": 43,
   "metadata": {},
   "outputs": [
    {
     "name": "stdout",
     "output_type": "stream",
     "text": [
      "None\n"
     ]
    }
   ],
   "source": []
  }
 ],
 "metadata": {
  "kernelspec": {
   "display_name": "Python 3",
   "language": "python",
   "name": "python3"
  },
  "language_info": {
   "codemirror_mode": {
    "name": "ipython",
    "version": 3
   },
   "file_extension": ".py",
   "mimetype": "text/x-python",
   "name": "python",
   "nbconvert_exporter": "python",
   "pygments_lexer": "ipython3",
   "version": "3.12.3"
  }
 },
 "nbformat": 4,
 "nbformat_minor": 2
}
